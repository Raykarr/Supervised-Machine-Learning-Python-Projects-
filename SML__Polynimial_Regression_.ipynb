{
  "nbformat": 4,
  "nbformat_minor": 0,
  "metadata": {
    "colab": {
      "provenance": []
    },
    "kernelspec": {
      "name": "python3",
      "display_name": "Python 3"
    },
    "language_info": {
      "name": "python"
    }
  },
  "cells": [
    {
      "cell_type": "markdown",
      "source": [
        "kaustubh raykar "
      ],
      "metadata": {
        "id": "YFrjuRsIQkjm"
      }
    },
    {
      "cell_type": "code",
      "execution_count": 50,
      "metadata": {
        "id": "gQAoKib0O11Y"
      },
      "outputs": [],
      "source": [
        "import pandas as pd\n",
        "import matplotlib.pyplot as plt\n"
      ]
    },
    {
      "cell_type": "code",
      "source": [
        "url = \"https://raw.githubusercontent.com/alinauman/Polynomial-Regression-on-Salaries-/master/data.csv\"\n",
        "df = pd.read_csv(url,index_col=0)\n",
        "df"
      ],
      "metadata": {
        "colab": {
          "base_uri": "https://localhost:8080/",
          "height": 394
        },
        "id": "vYOmYnwWPYFc",
        "outputId": "b2198ad2-1406-4702-e527-d7c4d5aaf5ba"
      },
      "execution_count": 51,
      "outputs": [
        {
          "output_type": "execute_result",
          "data": {
            "text/plain": [
              "                   Level   Salary\n",
              "Position                         \n",
              "Business Analyst       1    45000\n",
              "Junior Consultant      2    50000\n",
              "Senior Consultant      3    60000\n",
              "Manager                4    80000\n",
              "Country Manager        5   110000\n",
              "Region Manager         6   150000\n",
              "Partner                7   200000\n",
              "Senior Partner         8   300000\n",
              "C-level                9   500000\n",
              "CEO                   10  1000000"
            ],
            "text/html": [
              "\n",
              "  <div id=\"df-14b609f6-eae3-4f4d-aec9-1cf601c77f7d\">\n",
              "    <div class=\"colab-df-container\">\n",
              "      <div>\n",
              "<style scoped>\n",
              "    .dataframe tbody tr th:only-of-type {\n",
              "        vertical-align: middle;\n",
              "    }\n",
              "\n",
              "    .dataframe tbody tr th {\n",
              "        vertical-align: top;\n",
              "    }\n",
              "\n",
              "    .dataframe thead th {\n",
              "        text-align: right;\n",
              "    }\n",
              "</style>\n",
              "<table border=\"1\" class=\"dataframe\">\n",
              "  <thead>\n",
              "    <tr style=\"text-align: right;\">\n",
              "      <th></th>\n",
              "      <th>Level</th>\n",
              "      <th>Salary</th>\n",
              "    </tr>\n",
              "    <tr>\n",
              "      <th>Position</th>\n",
              "      <th></th>\n",
              "      <th></th>\n",
              "    </tr>\n",
              "  </thead>\n",
              "  <tbody>\n",
              "    <tr>\n",
              "      <th>Business Analyst</th>\n",
              "      <td>1</td>\n",
              "      <td>45000</td>\n",
              "    </tr>\n",
              "    <tr>\n",
              "      <th>Junior Consultant</th>\n",
              "      <td>2</td>\n",
              "      <td>50000</td>\n",
              "    </tr>\n",
              "    <tr>\n",
              "      <th>Senior Consultant</th>\n",
              "      <td>3</td>\n",
              "      <td>60000</td>\n",
              "    </tr>\n",
              "    <tr>\n",
              "      <th>Manager</th>\n",
              "      <td>4</td>\n",
              "      <td>80000</td>\n",
              "    </tr>\n",
              "    <tr>\n",
              "      <th>Country Manager</th>\n",
              "      <td>5</td>\n",
              "      <td>110000</td>\n",
              "    </tr>\n",
              "    <tr>\n",
              "      <th>Region Manager</th>\n",
              "      <td>6</td>\n",
              "      <td>150000</td>\n",
              "    </tr>\n",
              "    <tr>\n",
              "      <th>Partner</th>\n",
              "      <td>7</td>\n",
              "      <td>200000</td>\n",
              "    </tr>\n",
              "    <tr>\n",
              "      <th>Senior Partner</th>\n",
              "      <td>8</td>\n",
              "      <td>300000</td>\n",
              "    </tr>\n",
              "    <tr>\n",
              "      <th>C-level</th>\n",
              "      <td>9</td>\n",
              "      <td>500000</td>\n",
              "    </tr>\n",
              "    <tr>\n",
              "      <th>CEO</th>\n",
              "      <td>10</td>\n",
              "      <td>1000000</td>\n",
              "    </tr>\n",
              "  </tbody>\n",
              "</table>\n",
              "</div>\n",
              "      <button class=\"colab-df-convert\" onclick=\"convertToInteractive('df-14b609f6-eae3-4f4d-aec9-1cf601c77f7d')\"\n",
              "              title=\"Convert this dataframe to an interactive table.\"\n",
              "              style=\"display:none;\">\n",
              "        \n",
              "  <svg xmlns=\"http://www.w3.org/2000/svg\" height=\"24px\"viewBox=\"0 0 24 24\"\n",
              "       width=\"24px\">\n",
              "    <path d=\"M0 0h24v24H0V0z\" fill=\"none\"/>\n",
              "    <path d=\"M18.56 5.44l.94 2.06.94-2.06 2.06-.94-2.06-.94-.94-2.06-.94 2.06-2.06.94zm-11 1L8.5 8.5l.94-2.06 2.06-.94-2.06-.94L8.5 2.5l-.94 2.06-2.06.94zm10 10l.94 2.06.94-2.06 2.06-.94-2.06-.94-.94-2.06-.94 2.06-2.06.94z\"/><path d=\"M17.41 7.96l-1.37-1.37c-.4-.4-.92-.59-1.43-.59-.52 0-1.04.2-1.43.59L10.3 9.45l-7.72 7.72c-.78.78-.78 2.05 0 2.83L4 21.41c.39.39.9.59 1.41.59.51 0 1.02-.2 1.41-.59l7.78-7.78 2.81-2.81c.8-.78.8-2.07 0-2.86zM5.41 20L4 18.59l7.72-7.72 1.47 1.35L5.41 20z\"/>\n",
              "  </svg>\n",
              "      </button>\n",
              "      \n",
              "  <style>\n",
              "    .colab-df-container {\n",
              "      display:flex;\n",
              "      flex-wrap:wrap;\n",
              "      gap: 12px;\n",
              "    }\n",
              "\n",
              "    .colab-df-convert {\n",
              "      background-color: #E8F0FE;\n",
              "      border: none;\n",
              "      border-radius: 50%;\n",
              "      cursor: pointer;\n",
              "      display: none;\n",
              "      fill: #1967D2;\n",
              "      height: 32px;\n",
              "      padding: 0 0 0 0;\n",
              "      width: 32px;\n",
              "    }\n",
              "\n",
              "    .colab-df-convert:hover {\n",
              "      background-color: #E2EBFA;\n",
              "      box-shadow: 0px 1px 2px rgba(60, 64, 67, 0.3), 0px 1px 3px 1px rgba(60, 64, 67, 0.15);\n",
              "      fill: #174EA6;\n",
              "    }\n",
              "\n",
              "    [theme=dark] .colab-df-convert {\n",
              "      background-color: #3B4455;\n",
              "      fill: #D2E3FC;\n",
              "    }\n",
              "\n",
              "    [theme=dark] .colab-df-convert:hover {\n",
              "      background-color: #434B5C;\n",
              "      box-shadow: 0px 1px 3px 1px rgba(0, 0, 0, 0.15);\n",
              "      filter: drop-shadow(0px 1px 2px rgba(0, 0, 0, 0.3));\n",
              "      fill: #FFFFFF;\n",
              "    }\n",
              "  </style>\n",
              "\n",
              "      <script>\n",
              "        const buttonEl =\n",
              "          document.querySelector('#df-14b609f6-eae3-4f4d-aec9-1cf601c77f7d button.colab-df-convert');\n",
              "        buttonEl.style.display =\n",
              "          google.colab.kernel.accessAllowed ? 'block' : 'none';\n",
              "\n",
              "        async function convertToInteractive(key) {\n",
              "          const element = document.querySelector('#df-14b609f6-eae3-4f4d-aec9-1cf601c77f7d');\n",
              "          const dataTable =\n",
              "            await google.colab.kernel.invokeFunction('convertToInteractive',\n",
              "                                                     [key], {});\n",
              "          if (!dataTable) return;\n",
              "\n",
              "          const docLinkHtml = 'Like what you see? Visit the ' +\n",
              "            '<a target=\"_blank\" href=https://colab.research.google.com/notebooks/data_table.ipynb>data table notebook</a>'\n",
              "            + ' to learn more about interactive tables.';\n",
              "          element.innerHTML = '';\n",
              "          dataTable['output_type'] = 'display_data';\n",
              "          await google.colab.output.renderOutput(dataTable, element);\n",
              "          const docLink = document.createElement('div');\n",
              "          docLink.innerHTML = docLinkHtml;\n",
              "          element.appendChild(docLink);\n",
              "        }\n",
              "      </script>\n",
              "    </div>\n",
              "  </div>\n",
              "  "
            ]
          },
          "metadata": {},
          "execution_count": 51
        }
      ]
    },
    {
      "cell_type": "code",
      "source": [
        "x=df.Level.values\n",
        "y=df.Salary.values"
      ],
      "metadata": {
        "id": "_9FTkFQORwTd"
      },
      "execution_count": 52,
      "outputs": []
    },
    {
      "cell_type": "code",
      "source": [
        "x\n"
      ],
      "metadata": {
        "colab": {
          "base_uri": "https://localhost:8080/"
        },
        "id": "GMrxIHxDR9r1",
        "outputId": "19f8606b-ff44-43a2-99e0-1e91ddf444c1"
      },
      "execution_count": 53,
      "outputs": [
        {
          "output_type": "execute_result",
          "data": {
            "text/plain": [
              "array([ 1,  2,  3,  4,  5,  6,  7,  8,  9, 10])"
            ]
          },
          "metadata": {},
          "execution_count": 53
        }
      ]
    },
    {
      "cell_type": "code",
      "source": [
        "y"
      ],
      "metadata": {
        "colab": {
          "base_uri": "https://localhost:8080/"
        },
        "id": "l-KhQOYxSMbg",
        "outputId": "e5b586dd-29ca-4f36-cacd-a216ac7e44f9"
      },
      "execution_count": 54,
      "outputs": [
        {
          "output_type": "execute_result",
          "data": {
            "text/plain": [
              "array([  45000,   50000,   60000,   80000,  110000,  150000,  200000,\n",
              "        300000,  500000, 1000000])"
            ]
          },
          "metadata": {},
          "execution_count": 54
        }
      ]
    },
    {
      "cell_type": "code",
      "source": [
        "#reshaping \n",
        "x = x.reshape(-1,1)\n",
        "y = y.reshape(-1,1)"
      ],
      "metadata": {
        "id": "IBrfBST5SM8-"
      },
      "execution_count": 55,
      "outputs": []
    },
    {
      "cell_type": "code",
      "source": [
        "#try linear regression before"
      ],
      "metadata": {
        "id": "i6eMvj_tSPey"
      },
      "execution_count": 56,
      "outputs": []
    },
    {
      "cell_type": "code",
      "source": [
        "# we import linear regression model \n",
        "\n",
        "#instantiate the linear regression object \n",
        "from sklearn.linear_model import LinearRegression\n",
        "ln = LinearRegression()\n",
        "\n",
        "#train the model using trainig datasets \n",
        "ln.fit(x,y)\n",
        "\n",
        "#predict the test data(here we will only send x )\n",
        "y_pred= ln.predict(x)"
      ],
      "metadata": {
        "id": "FHsUS5I-SpU8"
      },
      "execution_count": 57,
      "outputs": []
    },
    {
      "cell_type": "code",
      "source": [
        "#predicting sales values , based on the x values already given\n",
        "ln.predict(x)"
      ],
      "metadata": {
        "colab": {
          "base_uri": "https://localhost:8080/"
        },
        "id": "yszvZ4MbS0P5",
        "outputId": "1df1c964-9193-4f5e-90e4-54bda6976bf8"
      },
      "execution_count": 58,
      "outputs": [
        {
          "output_type": "execute_result",
          "data": {
            "text/plain": [
              "array([[-114454.54545455],\n",
              "       [ -33575.75757576],\n",
              "       [  47303.03030303],\n",
              "       [ 128181.81818182],\n",
              "       [ 209060.60606061],\n",
              "       [ 289939.39393939],\n",
              "       [ 370818.18181818],\n",
              "       [ 451696.96969697],\n",
              "       [ 532575.75757576],\n",
              "       [ 613454.54545455]])"
            ]
          },
          "metadata": {},
          "execution_count": 58
        }
      ]
    },
    {
      "cell_type": "code",
      "source": [
        "#calcute the print root mean square (PMSE)\n",
        "from sklearn.metrics import mean_squared_error\n",
        "\n",
        "mse = mean_squared_error(y,y_pred) \n",
        "rase = np.sqrt(mse) \n",
        "print(\"MSE value: {:.4f}\".format(rase))"
      ],
      "metadata": {
        "colab": {
          "base_uri": "https://localhost:8080/"
        },
        "id": "r9oon0pJS3jD",
        "outputId": "0b07725b-2469-4f1c-8483-46da629562c0"
      },
      "execution_count": 59,
      "outputs": [
        {
          "output_type": "stream",
          "name": "stdout",
          "text": [
            "MSE value: 163388.7352\n"
          ]
        }
      ]
    },
    {
      "cell_type": "code",
      "source": [
        "#r2 , the value more closer to 1 , the better\n",
        "from sklearn.metrics import r2_score \n",
        "print(\"r2 score value: {:.4f}\".format(r2_score(y,y_pred)))"
      ],
      "metadata": {
        "colab": {
          "base_uri": "https://localhost:8080/"
        },
        "id": "eR18Ji39TH69",
        "outputId": "7bb2c9a4-19ed-44da-b7c6-9d15e192250e"
      },
      "execution_count": 60,
      "outputs": [
        {
          "output_type": "stream",
          "name": "stdout",
          "text": [
            "r2 score value: 0.6690\n"
          ]
        }
      ]
    },
    {
      "cell_type": "code",
      "source": [
        "plt.scatter(x,y, color = 'blue', label='Scatter Plot')\n",
        "plt.plot(x,y_pred, color=\"black\", linewidth=3, label='Regression Line') \n",
        "plt.title('Relationship between Salary and level')\n",
        "plt.xlabel('salary') \n",
        "plt.ylabel('level')\n",
        "plt.legend(loc=4)\n",
        "plt.show()"
      ],
      "metadata": {
        "colab": {
          "base_uri": "https://localhost:8080/",
          "height": 295
        },
        "id": "anofviomS-1J",
        "outputId": "8826e1ce-473b-4cd4-b3cc-402622b67a02"
      },
      "execution_count": 61,
      "outputs": [
        {
          "output_type": "display_data",
          "data": {
            "text/plain": [
              "<Figure size 432x288 with 1 Axes>"
            ],
            "image/png": "[encoded data removed]"
          },
          "metadata": {
            "needs_background": "light"
          }
        }
      ]
    },
    {
      "cell_type": "markdown",
      "source": [
        "##polynomial regression"
      ],
      "metadata": {
        "id": "DPiVYY6XVrc9"
      }
    },
    {
      "cell_type": "markdown",
      "source": [
        "\"polynomial feature is a model which converts your data into the polynomial format \""
      ],
      "metadata": {
        "id": "fWAQAFnjWts0"
      }
    },
    {
      "cell_type": "code",
      "source": [
        "from sklearn.preprocessing import PolynomialFeatures\n",
        "poly_reg = PolynomialFeatures (degree=3)\n",
        "x_poly= poly_reg.fit_transform(x)"
      ],
      "metadata": {
        "id": "-t9eVOa-WxRT"
      },
      "execution_count": 73,
      "outputs": []
    },
    {
      "cell_type": "code",
      "source": [
        "x\n"
      ],
      "metadata": {
        "colab": {
          "base_uri": "https://localhost:8080/"
        },
        "id": "VlCyrumAX4Dz",
        "outputId": "d3951434-72c9-41a4-8fad-35014de7a782"
      },
      "execution_count": 74,
      "outputs": [
        {
          "output_type": "execute_result",
          "data": {
            "text/plain": [
              "array([[ 1],\n",
              "       [ 2],\n",
              "       [ 3],\n",
              "       [ 4],\n",
              "       [ 5],\n",
              "       [ 6],\n",
              "       [ 7],\n",
              "       [ 8],\n",
              "       [ 9],\n",
              "       [10]])"
            ]
          },
          "metadata": {},
          "execution_count": 74
        }
      ]
    },
    {
      "cell_type": "code",
      "source": [
        "x_poly"
      ],
      "metadata": {
        "colab": {
          "base_uri": "https://localhost:8080/"
        },
        "id": "7dfLVGGvX5qM",
        "outputId": "f6d234bd-bba8-4726-8e8e-55fdd4dab8a1"
      },
      "execution_count": 75,
      "outputs": [
        {
          "output_type": "execute_result",
          "data": {
            "text/plain": [
              "array([[   1.,    1.,    1.,    1.],\n",
              "       [   1.,    2.,    4.,    8.],\n",
              "       [   1.,    3.,    9.,   27.],\n",
              "       [   1.,    4.,   16.,   64.],\n",
              "       [   1.,    5.,   25.,  125.],\n",
              "       [   1.,    6.,   36.,  216.],\n",
              "       [   1.,    7.,   49.,  343.],\n",
              "       [   1.,    8.,   64.,  512.],\n",
              "       [   1.,    9.,   81.,  729.],\n",
              "       [   1.,   10.,  100., 1000.]])"
            ]
          },
          "metadata": {},
          "execution_count": 75
        }
      ]
    },
    {
      "cell_type": "code",
      "source": [
        "y"
      ],
      "metadata": {
        "colab": {
          "base_uri": "https://localhost:8080/"
        },
        "id": "mEYJEzheX7oc",
        "outputId": "9d4695bf-1037-455d-87e5-bb6228a4335b"
      },
      "execution_count": 76,
      "outputs": [
        {
          "output_type": "execute_result",
          "data": {
            "text/plain": [
              "array([[  45000],\n",
              "       [  50000],\n",
              "       [  60000],\n",
              "       [  80000],\n",
              "       [ 110000],\n",
              "       [ 150000],\n",
              "       [ 200000],\n",
              "       [ 300000],\n",
              "       [ 500000],\n",
              "       [1000000]])"
            ]
          },
          "metadata": {},
          "execution_count": 76
        }
      ]
    },
    {
      "cell_type": "code",
      "source": [
        "ln2=LinearRegression()\n",
        "ln2.fit(x_poly,y)\n",
        "y_pred2=ln2.predict(x_poly)"
      ],
      "metadata": {
        "id": "EQOKzcdKX8L2"
      },
      "execution_count": 77,
      "outputs": []
    },
    {
      "cell_type": "code",
      "source": [
        "#predicting sales values , based on the x values already given\n",
        "ln2.predict(x_poly)"
      ],
      "metadata": {
        "colab": {
          "base_uri": "https://localhost:8080/"
        },
        "id": "JqnvnTJaYV4G",
        "outputId": "8fd4cc82-c1de-4035-8328-d051cecd6b98"
      },
      "execution_count": 78,
      "outputs": [
        {
          "output_type": "execute_result",
          "data": {
            "text/plain": [
              "array([[ 14902.0979021 ],\n",
              "       [ 78759.9067599 ],\n",
              "       [ 94960.37296037],\n",
              "       [ 88223.77622377],\n",
              "       [ 83270.39627039],\n",
              "       [104820.51282051],\n",
              "       [177594.40559441],\n",
              "       [326312.35431236],\n",
              "       [575694.63869464],\n",
              "       [950461.53846154]])"
            ]
          },
          "metadata": {},
          "execution_count": 78
        }
      ]
    },
    {
      "cell_type": "code",
      "source": [
        "#calcute the print root mean square (PMSE)\n",
        "from sklearn.metrics import mean_squared_error\n",
        "\n",
        "mse = mean_squared_error(y,y_pred2) \n",
        "rase = np.sqrt(mse) \n",
        "print(\"MSE value: {:.4f}\".format(rase))"
      ],
      "metadata": {
        "colab": {
          "base_uri": "https://localhost:8080/"
        },
        "id": "E1jeH9yYYxCG",
        "outputId": "030c7e94-2a87-4ebf-c32e-6c399b2c9144"
      },
      "execution_count": 79,
      "outputs": [
        {
          "output_type": "stream",
          "name": "stdout",
          "text": [
            "MSE value: 38931.5040\n"
          ]
        }
      ]
    },
    {
      "cell_type": "code",
      "source": [
        "#r2 , the value more closer to 1 , the better\n",
        "from sklearn.metrics import r2_score \n",
        "print(\"r2 score value: {:.4f}\".format(r2_score(y,y_pred2)))"
      ],
      "metadata": {
        "colab": {
          "base_uri": "https://localhost:8080/"
        },
        "id": "355kwkNlY5Xl",
        "outputId": "ee2da014-5ea2-44f7-e9a2-b5ff99e6cbc5"
      },
      "execution_count": 97,
      "outputs": [
        {
          "output_type": "stream",
          "name": "stdout",
          "text": [
            "r2 score value: 0.9812\n"
          ]
        }
      ]
    },
    {
      "cell_type": "code",
      "source": [
        "plt.scatter(x,y, color = 'blue', label='Scatter Plot')\n",
        "plt.plot(x,y_pred2, color=\"black\", linewidth=3, label='Regression Line') \n",
        "plt.title('Relationship between Salary and level')\n",
        "plt.xlabel('salary') \n",
        "plt.ylabel('level')\n",
        "plt.legend(loc=4)\n",
        "plt.show()"
      ],
      "metadata": {
        "colab": {
          "base_uri": "https://localhost:8080/",
          "height": 295
        },
        "id": "oR1jENZnY9Ac",
        "outputId": "b1c46bde-b5e1-45b3-f88c-ddd06bad8251"
      },
      "execution_count": 98,
      "outputs": [
        {
          "output_type": "display_data",
          "data": {
            "text/plain": [
              "<Figure size 432x288 with 1 Axes>"
            ],
            "image/png": "[encoded data removed]"
          },
          "metadata": {
            "needs_background": "light"
          }
        }
      ]
    },
    {
      "cell_type": "code",
      "source": [
        "#actual vs predicted values by the model\n",
        "#ln_diff = pd.DataFrame(({'Actual value': y_pred, 'Predicted value': y_pred2}))\n",
        "#ln_diff"
      ],
      "metadata": {
        "id": "Apv9yzoIZBtW"
      },
      "execution_count": 99,
      "outputs": []
    },
    {
      "cell_type": "code",
      "source": [
        "ln.predict([[6.5]])"
      ],
      "metadata": {
        "colab": {
          "base_uri": "https://localhost:8080/"
        },
        "id": "JvlPPCOKZw4S",
        "outputId": "6bb05d90-b9e1-40d1-85aa-34f954dabed0"
      },
      "execution_count": 100,
      "outputs": [
        {
          "output_type": "execute_result",
          "data": {
            "text/plain": [
              "array([[330378.78787879]])"
            ]
          },
          "metadata": {},
          "execution_count": 100
        }
      ]
    },
    {
      "cell_type": "code",
      "source": [
        "ln2.predict(poly_reg.fit_transform([[7.5]]))"
      ],
      "metadata": {
        "colab": {
          "base_uri": "https://localhost:8080/"
        },
        "id": "PHFF6xLwaPr9",
        "outputId": "9f23c65f-8eb6-41ca-ea42-2b8fa05e1b71"
      },
      "execution_count": 101,
      "outputs": [
        {
          "output_type": "execute_result",
          "data": {
            "text/plain": [
              "array([[240915.35547786]])"
            ]
          },
          "metadata": {},
          "execution_count": 101
        }
      ]
    },
    {
      "cell_type": "code",
      "source": [],
      "metadata": {
        "id": "mfxGAqW5bTQK"
      },
      "execution_count": 101,
      "outputs": []
    }
  ]
}